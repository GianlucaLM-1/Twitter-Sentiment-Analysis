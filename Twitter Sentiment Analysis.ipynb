{
 "cells": [
  {
   "cell_type": "markdown",
   "metadata": {
    "id": "IDbk7T05zzYo"
   },
   "source": [
    "# ***Predicting tweets sentiments with machine learning algorithms***"
   ]
  },
  {
   "cell_type": "markdown",
   "metadata": {
    "id": "1zxI47mO0ETU"
   },
   "source": [
    "**Authors:**\n",
    "\n",
    "- [Arcangelo Frigiola - 295406](mailto:s295406@studenti.polito.it)\n",
    "- [Gianluca La Malfa - 290187](mailto:s290187@studenti.polito.it)"
   ]
  },
  {
   "cell_type": "markdown",
   "metadata": {
    "id": "JjrP7QyM_BOy"
   },
   "source": [
    "## **Libraries and Utilities**"
   ]
  },
  {
   "cell_type": "code",
   "execution_count": 1,
   "metadata": {
    "colab": {
     "base_uri": "https://localhost:8080/"
    },
    "id": "UA_iDyY787TS",
    "outputId": "4ea22151-0317-45d0-adc2-c3d56985e100"
   },
   "outputs": [
    {
     "name": "stderr",
     "output_type": "stream",
     "text": [
      "[nltk_data] Downloading package punkt to\n",
      "[nltk_data]     /Users/gianlucalm/nltk_data...\n",
      "[nltk_data]   Package punkt is already up-to-date!\n",
      "[nltk_data] Downloading package stopwords to\n",
      "[nltk_data]     /Users/gianlucalm/nltk_data...\n",
      "[nltk_data]   Package stopwords is already up-to-date!\n"
     ]
    }
   ],
   "source": [
    "import pandas as pd \n",
    "import numpy as np\n",
    "import matplotlib.pyplot as plt\n",
    "import seaborn as sns\n",
    "from collections import Counter\n",
    "import math\n",
    "import seaborn as sns \n",
    "\n",
    "\n",
    "from sklearn.feature_extraction.text import TfidfVectorizer,CountVectorizer\n",
    "from sklearn.feature_extraction.text import TfidfTransformer\n",
    "\n",
    "import collections\n",
    "from bs4 import BeautifulSoup\n",
    "import re\n",
    "import nltk\n",
    "nltk.download('punkt')\n",
    "nltk.download('stopwords')\n",
    "import string\n",
    "from nltk.tokenize import word_tokenize\n",
    "from nltk.stem import WordNetLemmatizer \n",
    "from nltk.corpus import stopwords\n",
    "\n",
    "from wordcloud import WordCloud\n",
    "from wordcloud import STOPWORDS \n",
    "from sklearn import preprocessing\n",
    "\n",
    "from sklearn.model_selection import train_test_split\n",
    "from sklearn.model_selection import StratifiedKFold\n",
    "\n",
    "from sklearn.model_selection import GridSearchCV\n",
    "from sklearn.metrics import f1_score\n",
    "from sklearn.ensemble import RandomForestClassifier\n",
    "from sklearn.svm import SVC\n",
    "from sklearn.naive_bayes import GaussianNB\n",
    "from sklearn.naive_bayes import MultinomialNB\n",
    "from sklearn.naive_bayes import BernoulliNB\n",
    "\n",
    "from sklearn.linear_model import LogisticRegression\n",
    "from sklearn.ensemble import GradientBoostingClassifier\n",
    "from sklearn.svm import LinearSVC\n",
    "\n",
    "from numpy import array\n",
    "from numpy import argmax\n",
    "from sklearn.preprocessing import LabelEncoder\n",
    "from sklearn.preprocessing import OneHotEncoder\n",
    "import scipy\n",
    "from scipy.sparse import csr_matrix\n",
    "from scipy.sparse import coo_matrix, hstack"
   ]
  },
  {
   "cell_type": "markdown",
   "metadata": {
    "id": "dmE7B8iJ0u2M"
   },
   "source": [
    "# ***Notebook Index***\n",
    "**1. [Data Preprocessing](##-Data-Preprocessing)**\n",
    "\n",
    "**2. [Model Selection](##-Model-Selection)**\n",
    "\n",
    "**3. [Hyperparameters Tuning](##-Hyperparameters-Tuning)**\n",
    "\n",
    "**4. [Final Evaluation](##-Final-Evaluation)** \n"
   ]
  },
  {
   "cell_type": "markdown",
   "metadata": {
    "id": "ZeRYgMJB097j"
   },
   "source": [
    "# ***1. Data Preprocessing***\n",
    "\n",
    "## ***1.1 Uploading Data***"
   ]
  },
  {
   "cell_type": "code",
   "execution_count": 2,
   "metadata": {
    "colab": {
     "base_uri": "https://localhost:8080/"
    },
    "id": "GQqfbU-J8-vV",
    "outputId": "08501e12-05a5-4a3d-fb02-b39d9d892380"
   },
   "outputs": [
    {
     "name": "stderr",
     "output_type": "stream",
     "text": [
      "/Users/gianlucalm/opt/anaconda3/lib/python3.8/site-packages/dateutil/parser/_parser.py:1213: UnknownTimezoneWarning: tzname PDT identified but not understood.  Pass `tzinfos` argument in order to correctly return a timezone-aware datetime.  In a future version, this will raise an exception.\n",
      "  warnings.warn(\"tzname {tzname} identified but not understood.  \"\n"
     ]
    },
    {
     "name": "stdout",
     "output_type": "stream",
     "text": [
      "224994\n",
      "74999\n"
     ]
    }
   ],
   "source": [
    "df_dev = pd.read_csv(\"data/development.csv\",infer_datetime_format=True, parse_dates=[\"date\"])\n",
    "df_eval = pd.read_csv(\"data/evaluation.csv\",infer_datetime_format=True, parse_dates=[\"date\"])\n",
    "\n",
    "print(len(df_dev))\n",
    "print(len(df_eval))"
   ]
  },
  {
   "cell_type": "markdown",
   "metadata": {
    "id": "nX_0hWQd1ZrA"
   },
   "source": [
    "## ***1.2 Exploratory Data Analysis - EDA***"
   ]
  },
  {
   "cell_type": "code",
   "execution_count": 3,
   "metadata": {
    "colab": {
     "base_uri": "https://localhost:8080/",
     "height": 248
    },
    "id": "erfIA-LC_ON2",
    "outputId": "6b384ca7-2f4f-4ec6-aad9-c5c9c2e25f48"
   },
   "outputs": [
    {
     "data": {
      "text/html": [
       "<div>\n",
       "<style scoped>\n",
       "    .dataframe tbody tr th:only-of-type {\n",
       "        vertical-align: middle;\n",
       "    }\n",
       "\n",
       "    .dataframe tbody tr th {\n",
       "        vertical-align: top;\n",
       "    }\n",
       "\n",
       "    .dataframe thead th {\n",
       "        text-align: right;\n",
       "    }\n",
       "</style>\n",
       "<table border=\"1\" class=\"dataframe\">\n",
       "  <thead>\n",
       "    <tr style=\"text-align: right;\">\n",
       "      <th></th>\n",
       "      <th>sentiment</th>\n",
       "      <th>ids</th>\n",
       "      <th>date</th>\n",
       "      <th>flag</th>\n",
       "      <th>user</th>\n",
       "      <th>text</th>\n",
       "    </tr>\n",
       "  </thead>\n",
       "  <tbody>\n",
       "    <tr>\n",
       "      <th>0</th>\n",
       "      <td>1</td>\n",
       "      <td>1833972543</td>\n",
       "      <td>2009-05-18 01:08:27</td>\n",
       "      <td>NO_QUERY</td>\n",
       "      <td>Killandra</td>\n",
       "      <td>@MissBianca76 Yes, talking helps a lot.. going...</td>\n",
       "    </tr>\n",
       "    <tr>\n",
       "      <th>1</th>\n",
       "      <td>1</td>\n",
       "      <td>1980318193</td>\n",
       "      <td>2009-05-31 06:23:17</td>\n",
       "      <td>NO_QUERY</td>\n",
       "      <td>IMlisacowan</td>\n",
       "      <td>SUNSHINE. livingg itttt. imma lie on the grass...</td>\n",
       "    </tr>\n",
       "    <tr>\n",
       "      <th>2</th>\n",
       "      <td>1</td>\n",
       "      <td>1994409198</td>\n",
       "      <td>2009-06-01 11:52:54</td>\n",
       "      <td>NO_QUERY</td>\n",
       "      <td>yaseminx3</td>\n",
       "      <td>@PleaseBeMine Something for your iphone</td>\n",
       "    </tr>\n",
       "    <tr>\n",
       "      <th>3</th>\n",
       "      <td>0</td>\n",
       "      <td>1824749377</td>\n",
       "      <td>2009-05-17 02:45:34</td>\n",
       "      <td>NO_QUERY</td>\n",
       "      <td>no_surprises</td>\n",
       "      <td>@GabrielSaporta couldn't get in to the after p...</td>\n",
       "    </tr>\n",
       "    <tr>\n",
       "      <th>4</th>\n",
       "      <td>0</td>\n",
       "      <td>2001199113</td>\n",
       "      <td>2009-06-02 00:08:07</td>\n",
       "      <td>NO_QUERY</td>\n",
       "      <td>Rhi_ShortStack</td>\n",
       "      <td>@bradiewebbstack awww is andy being mean again...</td>\n",
       "    </tr>\n",
       "  </tbody>\n",
       "</table>\n",
       "</div>"
      ],
      "text/plain": [
       "   sentiment         ids                date      flag            user  \\\n",
       "0          1  1833972543 2009-05-18 01:08:27  NO_QUERY       Killandra   \n",
       "1          1  1980318193 2009-05-31 06:23:17  NO_QUERY     IMlisacowan   \n",
       "2          1  1994409198 2009-06-01 11:52:54  NO_QUERY       yaseminx3   \n",
       "3          0  1824749377 2009-05-17 02:45:34  NO_QUERY    no_surprises   \n",
       "4          0  2001199113 2009-06-02 00:08:07  NO_QUERY  Rhi_ShortStack   \n",
       "\n",
       "                                                text  \n",
       "0  @MissBianca76 Yes, talking helps a lot.. going...  \n",
       "1  SUNSHINE. livingg itttt. imma lie on the grass...  \n",
       "2           @PleaseBeMine Something for your iphone   \n",
       "3  @GabrielSaporta couldn't get in to the after p...  \n",
       "4  @bradiewebbstack awww is andy being mean again...  "
      ]
     },
     "execution_count": 3,
     "metadata": {},
     "output_type": "execute_result"
    }
   ],
   "source": [
    "df_dev.head()"
   ]
  },
  {
   "cell_type": "code",
   "execution_count": 4,
   "metadata": {
    "id": "iVlkq7ajw9CC",
    "outputId": "86761737-a000-49b0-d875-36eb4f66f20e"
   },
   "outputs": [
    {
     "data": {
      "text/html": [
       "<div>\n",
       "<style scoped>\n",
       "    .dataframe tbody tr th:only-of-type {\n",
       "        vertical-align: middle;\n",
       "    }\n",
       "\n",
       "    .dataframe tbody tr th {\n",
       "        vertical-align: top;\n",
       "    }\n",
       "\n",
       "    .dataframe thead th {\n",
       "        text-align: right;\n",
       "    }\n",
       "</style>\n",
       "<table border=\"1\" class=\"dataframe\">\n",
       "  <thead>\n",
       "    <tr style=\"text-align: right;\">\n",
       "      <th></th>\n",
       "      <th>ids</th>\n",
       "      <th>date</th>\n",
       "      <th>flag</th>\n",
       "      <th>user</th>\n",
       "      <th>text</th>\n",
       "    </tr>\n",
       "  </thead>\n",
       "  <tbody>\n",
       "    <tr>\n",
       "      <th>0</th>\n",
       "      <td>1999928613</td>\n",
       "      <td>2009-06-01 21:04:54</td>\n",
       "      <td>NO_QUERY</td>\n",
       "      <td>urbanperspectiv</td>\n",
       "      <td>@engteacher I'm pretty much the same ...in eit...</td>\n",
       "    </tr>\n",
       "    <tr>\n",
       "      <th>1</th>\n",
       "      <td>1827919331</td>\n",
       "      <td>2009-05-17 11:43:09</td>\n",
       "      <td>NO_QUERY</td>\n",
       "      <td>therealsecret</td>\n",
       "      <td>@JaxLicurse same here  have a gr8 week ahead</td>\n",
       "    </tr>\n",
       "    <tr>\n",
       "      <th>2</th>\n",
       "      <td>1563640134</td>\n",
       "      <td>2009-04-19 23:37:52</td>\n",
       "      <td>NO_QUERY</td>\n",
       "      <td>bitchville</td>\n",
       "      <td>@blacksweater  that's just nightmares all over</td>\n",
       "    </tr>\n",
       "    <tr>\n",
       "      <th>3</th>\n",
       "      <td>2189786396</td>\n",
       "      <td>2009-06-16 00:54:27</td>\n",
       "      <td>NO_QUERY</td>\n",
       "      <td>epi_longo</td>\n",
       "      <td>@dlead @jishanvn cháº¯c pháº£i Äi thi Äáº¡i ...</td>\n",
       "    </tr>\n",
       "    <tr>\n",
       "      <th>4</th>\n",
       "      <td>1974034022</td>\n",
       "      <td>2009-05-30 12:18:33</td>\n",
       "      <td>NO_QUERY</td>\n",
       "      <td>Curiosafmmb</td>\n",
       "      <td>@CA_Sweetie awe. ok sweetie. ttyl.   *hugs*</td>\n",
       "    </tr>\n",
       "  </tbody>\n",
       "</table>\n",
       "</div>"
      ],
      "text/plain": [
       "          ids                date      flag             user  \\\n",
       "0  1999928613 2009-06-01 21:04:54  NO_QUERY  urbanperspectiv   \n",
       "1  1827919331 2009-05-17 11:43:09  NO_QUERY    therealsecret   \n",
       "2  1563640134 2009-04-19 23:37:52  NO_QUERY       bitchville   \n",
       "3  2189786396 2009-06-16 00:54:27  NO_QUERY        epi_longo   \n",
       "4  1974034022 2009-05-30 12:18:33  NO_QUERY      Curiosafmmb   \n",
       "\n",
       "                                                text  \n",
       "0  @engteacher I'm pretty much the same ...in eit...  \n",
       "1      @JaxLicurse same here  have a gr8 week ahead   \n",
       "2     @blacksweater  that's just nightmares all over  \n",
       "3  @dlead @jishanvn cháº¯c pháº£i Äi thi Äáº¡i ...  \n",
       "4        @CA_Sweetie awe. ok sweetie. ttyl.   *hugs*  "
      ]
     },
     "execution_count": 4,
     "metadata": {},
     "output_type": "execute_result"
    }
   ],
   "source": [
    "df_eval.head()"
   ]
  },
  {
   "cell_type": "code",
   "execution_count": 5,
   "metadata": {
    "id": "ZkPABrxHw9CC",
    "outputId": "8a547f9a-e94f-49ad-e7e0-e6817eac5c20"
   },
   "outputs": [
    {
     "data": {
      "text/html": [
       "<div>\n",
       "<style scoped>\n",
       "    .dataframe tbody tr th:only-of-type {\n",
       "        vertical-align: middle;\n",
       "    }\n",
       "\n",
       "    .dataframe tbody tr th {\n",
       "        vertical-align: top;\n",
       "    }\n",
       "\n",
       "    .dataframe thead th {\n",
       "        text-align: right;\n",
       "    }\n",
       "</style>\n",
       "<table border=\"1\" class=\"dataframe\">\n",
       "  <thead>\n",
       "    <tr style=\"text-align: right;\">\n",
       "      <th></th>\n",
       "      <th>sentiment</th>\n",
       "      <th>ids</th>\n",
       "      <th>date</th>\n",
       "      <th>flag</th>\n",
       "      <th>user</th>\n",
       "      <th>text</th>\n",
       "      <th>day</th>\n",
       "      <th>month</th>\n",
       "      <th>year</th>\n",
       "      <th>hour</th>\n",
       "      <th>minute</th>\n",
       "      <th>second</th>\n",
       "    </tr>\n",
       "  </thead>\n",
       "  <tbody>\n",
       "    <tr>\n",
       "      <th>0</th>\n",
       "      <td>1</td>\n",
       "      <td>1833972543</td>\n",
       "      <td>2009-05-18 01:08:27</td>\n",
       "      <td>NO_QUERY</td>\n",
       "      <td>Killandra</td>\n",
       "      <td>@MissBianca76 Yes, talking helps a lot.. going...</td>\n",
       "      <td>18</td>\n",
       "      <td>5</td>\n",
       "      <td>2009</td>\n",
       "      <td>1</td>\n",
       "      <td>8</td>\n",
       "      <td>27</td>\n",
       "    </tr>\n",
       "    <tr>\n",
       "      <th>1</th>\n",
       "      <td>1</td>\n",
       "      <td>1980318193</td>\n",
       "      <td>2009-05-31 06:23:17</td>\n",
       "      <td>NO_QUERY</td>\n",
       "      <td>IMlisacowan</td>\n",
       "      <td>SUNSHINE. livingg itttt. imma lie on the grass...</td>\n",
       "      <td>31</td>\n",
       "      <td>5</td>\n",
       "      <td>2009</td>\n",
       "      <td>6</td>\n",
       "      <td>23</td>\n",
       "      <td>17</td>\n",
       "    </tr>\n",
       "    <tr>\n",
       "      <th>2</th>\n",
       "      <td>1</td>\n",
       "      <td>1994409198</td>\n",
       "      <td>2009-06-01 11:52:54</td>\n",
       "      <td>NO_QUERY</td>\n",
       "      <td>yaseminx3</td>\n",
       "      <td>@PleaseBeMine Something for your iphone</td>\n",
       "      <td>1</td>\n",
       "      <td>6</td>\n",
       "      <td>2009</td>\n",
       "      <td>11</td>\n",
       "      <td>52</td>\n",
       "      <td>54</td>\n",
       "    </tr>\n",
       "    <tr>\n",
       "      <th>3</th>\n",
       "      <td>0</td>\n",
       "      <td>1824749377</td>\n",
       "      <td>2009-05-17 02:45:34</td>\n",
       "      <td>NO_QUERY</td>\n",
       "      <td>no_surprises</td>\n",
       "      <td>@GabrielSaporta couldn't get in to the after p...</td>\n",
       "      <td>17</td>\n",
       "      <td>5</td>\n",
       "      <td>2009</td>\n",
       "      <td>2</td>\n",
       "      <td>45</td>\n",
       "      <td>34</td>\n",
       "    </tr>\n",
       "    <tr>\n",
       "      <th>4</th>\n",
       "      <td>0</td>\n",
       "      <td>2001199113</td>\n",
       "      <td>2009-06-02 00:08:07</td>\n",
       "      <td>NO_QUERY</td>\n",
       "      <td>Rhi_ShortStack</td>\n",
       "      <td>@bradiewebbstack awww is andy being mean again...</td>\n",
       "      <td>2</td>\n",
       "      <td>6</td>\n",
       "      <td>2009</td>\n",
       "      <td>0</td>\n",
       "      <td>8</td>\n",
       "      <td>7</td>\n",
       "    </tr>\n",
       "  </tbody>\n",
       "</table>\n",
       "</div>"
      ],
      "text/plain": [
       "   sentiment         ids                date      flag            user  \\\n",
       "0          1  1833972543 2009-05-18 01:08:27  NO_QUERY       Killandra   \n",
       "1          1  1980318193 2009-05-31 06:23:17  NO_QUERY     IMlisacowan   \n",
       "2          1  1994409198 2009-06-01 11:52:54  NO_QUERY       yaseminx3   \n",
       "3          0  1824749377 2009-05-17 02:45:34  NO_QUERY    no_surprises   \n",
       "4          0  2001199113 2009-06-02 00:08:07  NO_QUERY  Rhi_ShortStack   \n",
       "\n",
       "                                                text  day  month  year  hour  \\\n",
       "0  @MissBianca76 Yes, talking helps a lot.. going...   18      5  2009     1   \n",
       "1  SUNSHINE. livingg itttt. imma lie on the grass...   31      5  2009     6   \n",
       "2           @PleaseBeMine Something for your iphone     1      6  2009    11   \n",
       "3  @GabrielSaporta couldn't get in to the after p...   17      5  2009     2   \n",
       "4  @bradiewebbstack awww is andy being mean again...    2      6  2009     0   \n",
       "\n",
       "   minute  second  \n",
       "0       8      27  \n",
       "1      23      17  \n",
       "2      52      54  \n",
       "3      45      34  \n",
       "4       8       7  "
      ]
     },
     "execution_count": 5,
     "metadata": {},
     "output_type": "execute_result"
    }
   ],
   "source": [
    "df_dev['day'] = [d.day for d in df_dev['date']]\n",
    "df_dev['month'] = [d.month for d in df_dev['date']]\n",
    "df_dev['year'] = [d.year for d in df_dev['date']]\n",
    "df_dev['hour'] = [d.hour for d in df_dev['date']]\n",
    "df_dev['minute'] = [d.minute for d in df_dev['date']]\n",
    "df_dev['second'] = [d.second for d in df_dev['date']]\n",
    "\n",
    "\n",
    "df_eval['day'] = [d.day for d in df_eval['date']]\n",
    "df_eval['month'] = [d.month for d in df_eval['date']]\n",
    "df_eval['year'] = [d.year for d in df_eval['date']]\n",
    "df_eval['hour'] = [d.hour for d in df_eval['date']]\n",
    "df_eval['minute'] = [d.minute for d in df_eval['date']]\n",
    "df_eval['second'] = [d.second for d in df_eval['date']]\n",
    "df_dev.head()"
   ]
  },
  {
   "cell_type": "code",
   "execution_count": 6,
   "metadata": {
    "id": "H1G6s8sqw9CD",
    "outputId": "e9073d88-d6ad-4230-fc35-73269861eec1"
   },
   "outputs": [
    {
     "name": "stdout",
     "output_type": "stream",
     "text": [
      "           Number of unique values  Number of missing values\n",
      "sentiment                        2                         0\n",
      "ids                         224716                         0\n",
      "date                        189779                         0\n",
      "flag                             1                         0\n",
      "user                         10647                         0\n",
      "text                        223106                         0\n",
      "day                             29                         0\n",
      "month                            3                         0\n",
      "year                             1                         0\n",
      "hour                            24                         0\n",
      "minute                          60                         0\n",
      "second                          60                         0\n"
     ]
    }
   ],
   "source": [
    "table = pd.DataFrame(columns = ['Number of unique values','Number of missing values'])\n",
    "table['Number of missing values'] =0\n",
    "table['Number of unique values'] =0\n",
    "table['Number of missing values'] = df_dev.isnull().sum()\n",
    "table['Number of unique values'] =df_dev.nunique()\n",
    "\n",
    "print(table)"
   ]
  },
  {
   "cell_type": "markdown",
   "metadata": {
    "id": "MBovMTIow9CD"
   },
   "source": [
    "### ***1.2.1 Dealing With Duplicates*** "
   ]
  },
  {
   "cell_type": "code",
   "execution_count": 7,
   "metadata": {
    "id": "OB51mLekw9CE",
    "outputId": "d87e1bc9-163a-4f54-cc05-4205a838c5da"
   },
   "outputs": [
    {
     "name": "stdout",
     "output_type": "stream",
     "text": [
      "223106\n"
     ]
    }
   ],
   "source": [
    "df_dev= df_dev.drop_duplicates(subset='text', keep=\"last\")\n",
    "df_dev= df_dev.drop_duplicates(subset='ids', keep=\"last\")\n",
    "print(len(df_dev))"
   ]
  },
  {
   "cell_type": "code",
   "execution_count": 8,
   "metadata": {
    "id": "90I0aogPw9CF",
    "outputId": "64be3e68-d977-411b-e408-3ad4faad9852",
    "scrolled": true
   },
   "outputs": [
    {
     "name": "stdout",
     "output_type": "stream",
     "text": [
      "           Number of unique values  Number of missing values\n",
      "sentiment                        2                         0\n",
      "ids                         223106                         0\n",
      "date                        188655                         0\n",
      "flag                             1                         0\n",
      "user                         10647                         0\n",
      "text                        223106                         0\n",
      "day                             29                         0\n",
      "month                            3                         0\n",
      "year                             1                         0\n",
      "hour                            24                         0\n",
      "minute                          60                         0\n",
      "second                          60                         0\n"
     ]
    }
   ],
   "source": [
    "table = pd.DataFrame(columns = ['Number of unique values','Number of missing values'])\n",
    "table['Number of missing values'] =0\n",
    "table['Number of unique values'] =0\n",
    "table['Number of missing values'] = df_dev.isnull().sum()\n",
    "table['Number of unique values'] =df_dev.nunique()\n",
    "\n",
    "print(table)"
   ]
  },
  {
   "cell_type": "markdown",
   "metadata": {
    "id": "PA-AelBa2jxz"
   },
   "source": [
    "### ***1.2.2 Data Visualization***\n",
    "\n"
   ]
  },
  {
   "cell_type": "markdown",
   "metadata": {
    "id": "4iNyyi1n24pQ"
   },
   "source": [
    "#### ***1. Target Distribution*** "
   ]
  },
  {
   "cell_type": "code",
   "execution_count": 9,
   "metadata": {
    "id": "HzCZoLWow9CG",
    "outputId": "2515f651-b3fd-451e-cba3-15ab7375bae5"
   },
   "outputs": [
    {
     "data": {
      "image/png": "[encoded data removed]",
      "text/plain": [
       "<Figure size 432x360 with 1 Axes>"
      ]
     },
     "metadata": {
      "needs_background": "light"
     },
     "output_type": "display_data"
    }
   ],
   "source": [
    "plt.figure(figsize=(6,5))\n",
    "graph_target = sns.countplot(x=\"sentiment\", data=df_dev, palette=['#FF6962','#77DD76'])\n",
    "\n",
    "i=0\n",
    "for p in graph_target.patches:\n",
    "    height = p.get_height()\n",
    "    \n",
    "    percentage = round(100 * df_dev[\"sentiment\"].value_counts()[i] / len(df_dev),2)\n",
    "    \n",
    "    str_plot = f'{percentage} %'\n",
    "    \n",
    "    graph_target.text(p.get_x()+p.get_width()/2., height - 100, str_plot, ha=\"center\")\n",
    "    i += 1\n",
    "\n",
    "plt.xlabel('Sentiment', fontsize=12)\n",
    "plt.ylabel('Count', fontsize=12)\n",
    "plt.savefig(\"images/target_distribution.png\")\n",
    "plt.show()"
   ]
  },
  {
   "cell_type": "code",
   "execution_count": 10,
   "metadata": {
    "id": "3RzDG5NRw9CG",
    "outputId": "0d74cb83-cd93-4809-dc6b-489b90c824fd"
   },
   "outputs": [
    {
     "name": "stdout",
     "output_type": "stream",
     "text": [
      "0.420678959776967\n",
      "0.579321040223033\n"
     ]
    }
   ],
   "source": [
    "print(df_dev[df_dev['sentiment']==0].count()[0] / len(df_dev))\n",
    "print(df_dev[df_dev['sentiment']==1].count()[0] / len(df_dev))\n"
   ]
  },
  {
   "cell_type": "markdown",
   "metadata": {
    "id": "umig6Lr03Azo"
   },
   "source": [
    "#### ***2. Characters Distribution*** "
   ]
  },
  {
   "cell_type": "code",
   "execution_count": 11,
   "metadata": {
    "id": "5iG2QjWxw9CH",
    "outputId": "0e36bdd3-da6c-4c2a-ab43-6c075d291198"
   },
   "outputs": [
    {
     "data": {
      "image/png": "[encoded data removed]",
      "text/plain": [
       "<Figure size 720x360 with 2 Axes>"
      ]
     },
     "metadata": {
      "needs_background": "light"
     },
     "output_type": "display_data"
    }
   ],
   "source": [
    "fig,(ax1,ax2)=plt.subplots(1,2,figsize=(10,5))\n",
    "tweet_len=df_dev[df_dev['sentiment']==1]['text'].str.len()\n",
    "ax1.hist(tweet_len,color='#77DD76')\n",
    "ax1.set_title('Positive tweets')\n",
    "tweet_len=df_dev[df_dev['sentiment']==0]['text'].str.len()\n",
    "ax2.hist(tweet_len,color='#FF6962')\n",
    "ax2.set_title('Negative tweets')\n",
    "fig.suptitle('Characters in tweets')\n",
    "\n",
    "plt.savefig(\"images/Char_in_tweets.png\")\n",
    "plt.show()\n"
   ]
  },
  {
   "cell_type": "markdown",
   "metadata": {
    "id": "4BSBgC6dw9CH"
   },
   "source": [
    "#### ***3. Number of Words per Tweet type*** "
   ]
  },
  {
   "cell_type": "code",
   "execution_count": 12,
   "metadata": {
    "id": "JCXvuPnYw9CH",
    "outputId": "50c02050-e7e8-47b6-ae33-e4c0c41d2511"
   },
   "outputs": [
    {
     "data": {
      "image/png": "[encoded data removed]",
      "text/plain": [
       "<Figure size 720x360 with 2 Axes>"
      ]
     },
     "metadata": {
      "needs_background": "light"
     },
     "output_type": "display_data"
    }
   ],
   "source": [
    "fig,(ax1,ax2)=plt.subplots(1,2,figsize=(10,5))\n",
    "tweet_len=df_dev[df_dev['sentiment']==1]['text'].str.split().map(lambda x: len(x))\n",
    "ax1.hist(tweet_len,color='#77DD76')\n",
    "ax1.set_title('Positive tweets')\n",
    "tweet_len=df_dev[df_dev['sentiment']==0]['text'].str.split().map(lambda x: len(x))\n",
    "ax2.hist(tweet_len,color='#FF6962')\n",
    "ax2.set_title('Negative tweets')\n",
    "fig.suptitle('Words in a tweet')\n",
    "\n",
    "plt.savefig(\"images/Words_in_tweets.png\")\n",
    "plt.show()"
   ]
  },
  {
   "cell_type": "markdown",
   "metadata": {
    "id": "3jrwcgJyw9CI"
   },
   "source": [
    "#### ***4. Average Word Length in a Tweet per type*** "
   ]
  },
  {
   "cell_type": "code",
   "execution_count": 13,
   "metadata": {
    "id": "YCBwSdtYw9CI",
    "outputId": "c65a8d17-ad81-4588-968e-40513ed7fdac"
   },
   "outputs": [
    {
     "name": "stderr",
     "output_type": "stream",
     "text": [
      "/Users/gianlucalm/opt/anaconda3/lib/python3.8/site-packages/seaborn/distributions.py:2551: FutureWarning: `distplot` is a deprecated function and will be removed in a future version. Please adapt your code to use either `displot` (a figure-level function with similar flexibility) or `histplot` (an axes-level function for histograms).\n",
      "  warnings.warn(msg, FutureWarning)\n",
      "/Users/gianlucalm/opt/anaconda3/lib/python3.8/site-packages/seaborn/distributions.py:2551: FutureWarning: `distplot` is a deprecated function and will be removed in a future version. Please adapt your code to use either `displot` (a figure-level function with similar flexibility) or `histplot` (an axes-level function for histograms).\n",
      "  warnings.warn(msg, FutureWarning)\n"
     ]
    },
    {
     "data": {
      "image/png": "[encoded data removed]",
      "text/plain": [
       "<Figure size 720x360 with 2 Axes>"
      ]
     },
     "metadata": {
      "needs_background": "light"
     },
     "output_type": "display_data"
    }
   ],
   "source": [
    "fig,(ax1,ax2)=plt.subplots(1,2,figsize=(10,5))\n",
    "word=df_dev[df_dev['sentiment']==1]['text'].str.split().apply(lambda x : [len(i) for i in x])\n",
    "sns.distplot(word.map(lambda x: np.mean(x)),ax=ax1,color='green')\n",
    "ax1.set_title('Positive')\n",
    "word=df_dev[df_dev['sentiment']==0]['text'].str.split().apply(lambda x : [len(i) for i in x])\n",
    "sns.distplot(word.map(lambda x: np.mean(x)),ax=ax2,color='red')\n",
    "ax2.set_title('Negative')\n",
    "fig.suptitle('Average word length in each tweet')\n",
    "\n",
    "plt.savefig(\"images/Avg_words_lenghts.png\")\n",
    "\n"
   ]
  },
  {
   "cell_type": "markdown",
   "metadata": {
    "id": "kj_AYWCHQc8Q"
   },
   "source": [
    "## ***1.3 Data Cleaning***"
   ]
  },
  {
   "cell_type": "markdown",
   "metadata": {
    "id": "VCWWAzbb3u-C"
   },
   "source": [
    "\n",
    "### ***1.3.1 Abbreviation Dictionary***"
   ]
  },
  {
   "cell_type": "code",
   "execution_count": 15,
   "metadata": {
    "id": "NrIkI7J5PWc7"
   },
   "outputs": [],
   "source": [
    "# dictionary of abbreviations\n",
    "abbreviations = {\n",
    "    \"$\" : \" dollar \",\n",
    "    \"€\" : \" euro \",\n",
    "    \"'re\" : \"are\",\n",
    "    \"'ve\" : \"have\",\n",
    "    \"dont\": \"do not\",\n",
    "    \"amp\" : \"\",\n",
    "    \"ca\" : \"about\",\n",
    "    \"na\" : \"not applicable\",\n",
    "    \"im'\" : \" i am\",\n",
    "    \"4ao\" : \"for adults only\",\n",
    "    \"a.m\" : \"before midday\",\n",
    "    \"a3\" : \"anytime anywhere anyplace\",\n",
    "    \"aamof\" : \"as a matter of fact\",\n",
    "    \"acct\" : \"account\",\n",
    "    \"adih\" : \"another day in hell\",\n",
    "    \"afaic\" : \"as far as i am concerned\",\n",
    "    \"afaict\" : \"as far as i can tell\",\n",
    "    \"afaik\" : \"as far as i know\",\n",
    "    \"afair\" : \"as far as i remember\",\n",
    "    \"afk\" : \"away from keyboard\",\n",
    "    \"app\" : \"application\",\n",
    "    \"approx\" : \"approximately\",\n",
    "    \"apps\" : \"applications\",\n",
    "    \"asap\" : \"as soon as possible\",\n",
    "    \"asl\" : \"age, sex, location\",\n",
    "    \"atk\" : \"at the keyboard\",\n",
    "    \"ave.\" : \"avenue\",\n",
    "    \"aymm\" : \"are you my mother\",\n",
    "    \"ayor\" : \"at your own risk\", \n",
    "    \"b&b\" : \"bed and breakfast\",\n",
    "    \"b+b\" : \"bed and breakfast\",\n",
    "    \"b.c\" : \"before christ\",\n",
    "    \"b2b\" : \"business to business\",\n",
    "    \"b2c\" : \"business to customer\",\n",
    "    \"b4\" : \"before\",\n",
    "    \".....\" : \"\",   \n",
    "    \"....\" : \"\",\n",
    "    \"...\" : \"\",\n",
    "    \"..\" : \"\",\n",
    "    \"b4n\" : \"bye for now\",\n",
    "    \"b@u\" : \"back at you\",\n",
    "    \"bae\" : \"before anyone else\",\n",
    "    \"bak\" : \"back at keyboard\",\n",
    "    \"bbbg\" : \"bye bye be good\",\n",
    "    \"bbc\" : \"british broadcasting corporation\",\n",
    "    \"bbias\" : \"be back in a second\",\n",
    "    \"bbl\" : \"be back later\",\n",
    "    \"bbs\" : \"be back soon\",\n",
    "    \"be4\" : \"before\",\n",
    "    \"bfn\" : \"bye for now\",\n",
    "    \"blvd\" : \"boulevard\",\n",
    "    \"bout\" : \"about\",\n",
    "    \"brb\" : \"be right back\",\n",
    "    \"bros\" : \"brothers\",\n",
    "    \"brt\" : \"be right there\",\n",
    "    \"bsaaw\" : \"big smile and a wink\",\n",
    "    \"btw\" : \"by the way\",\n",
    "    \"bwl\" : \"bursting with laughter\",\n",
    "    \"c/o\" : \"care of\",\n",
    "    \"cet\" : \"central european time\",\n",
    "    \"cf\" : \"compare\",\n",
    "    \"cia\" : \"central intelligence agency\",\n",
    "    \"csl\" : \"can not stop laughing\",\n",
    "    \"cu\" : \"see you\",\n",
    "    \"cul8r\" : \"see you later\",\n",
    "    \"cv\" : \"curriculum vitae\",\n",
    "    \"cwot\" : \"complete waste of time\",\n",
    "    \"cya\" : \"see you\",\n",
    "    \"cyt\" : \"see you tomorrow\",\n",
    "    \"dae\" : \"does anyone else\",\n",
    "    \"dbmib\" : \"do not bother me i am busy\",\n",
    "    \"'ll\" : \"will\",\n",
    "    \"diy\" : \"do it yourself\",\n",
    "    \"dm\" : \"direct message\",\n",
    "    \"dwh\" : \"during work hours\",\n",
    "    \"e123\" : \"easy as one two three\",\n",
    "    \"eet\" : \"eastern european time\",\n",
    "    \"eg\" : \"example\",\n",
    "    \"embm\" : \"early morning business meeting\",\n",
    "    \"encl\" : \"enclosed\",\n",
    "    \"encl.\" : \"enclosed\",\n",
    "    \"etc\" : \"and so on\",\n",
    "    \"faq\" : \"frequently asked questions\",\n",
    "    \"fawc\" : \"for anyone who cares\",\n",
    "    \"fb\" : \"facebook\",\n",
    "    \"fc\" : \"fingers crossed\",\n",
    "    \"fig\" : \"figure\",\n",
    "    \"fimh\" : \"forever in my heart\", \n",
    "    \"ft.\" : \"feet\",\n",
    "    \"ft\" : \"featuring\",\n",
    "    \"ftl\" : \"for the loss\",\n",
    "    \"ftw\" : \"for the win\",\n",
    "    \"fwiw\" : \"for what it is worth\",\n",
    "    \"fyi\" : \"for your information\",\n",
    "    \"g9\" : \"genius\",\n",
    "    \"gahoy\" : \"get a hold of yourself\",\n",
    "    \"gal\" : \"get a life\",\n",
    "    \"gcse\" : \"general certificate of secondary education\",\n",
    "    \"gfn\" : \"gone for now\",\n",
    "    \"gg\" : \"good game\",\n",
    "    \"gl\" : \"good luck\",\n",
    "    \"glhf\" : \"good luck have fun\",\n",
    "    \"gmt\" : \"greenwich mean time\",\n",
    "    \"gmta\" : \"great minds think alike\",\n",
    "    \"gn\" : \"good night\",\n",
    "    \"g.o.a.t\" : \"greatest of all time\",\n",
    "    \"goat\" : \"greatest of all time\",\n",
    "    \"goi\" : \"get over it\",\n",
    "    \"gps\" : \"global positioning system\",\n",
    "    \"gr8\" : \"great\",\n",
    "    \"gratz\" : \"congratulations\",\n",
    "    \"gyal\" : \"girl\",\n",
    "    \"h&c\" : \"hot and cold\",\n",
    "    \"hp\" : \"horsepower\",\n",
    "    \"hr\" : \"hour\",\n",
    "    \"hrh\" : \"his royal highness\",\n",
    "    \"ht\" : \"height\",\n",
    "    \"ibrb\" : \"i will be right back\",\n",
    "    \"ic\" : \"i see\",\n",
    "    \"icq\" : \"i seek you\",\n",
    "    \"icymi\" : \"in case you missed it\",\n",
    "    \"idc\" : \"i do not care\",\n",
    "    \"idgadf\" : \"i do not give a damn fuck\",\n",
    "    \"idgaf\" : \"i do not give a fuck\",\n",
    "    \"idk\" : \"i do not know\",\n",
    "    \"ie\" : \"that is\",\n",
    "    \"i.e\" : \"that is\",\n",
    "    \"ifyp\" : \"i feel your pain\",\n",
    "    \"IG\" : \"instagram\",\n",
    "    \"iirc\" : \"if i remember correctly\",\n",
    "    \"ilu\" : \"i love you\",\n",
    "    \"ily\" : \"i love you\",\n",
    "    \"imho\" : \"in my humble opinion\",\n",
    "    \"imo\" : \"in my opinion\",\n",
    "    \"imu\" : \"i miss you\",\n",
    "    \"iow\" : \"in other words\",\n",
    "    \"irl\" : \"in real life\",\n",
    "    \"i'm\" : \"i am\",\n",
    "    \"'m'\" : \"am\",\n",
    "    \"j4f\" : \"just for fun\",\n",
    "    \"jic\" : \"just in case\",\n",
    "    \"jk\" : \"just kidding\",\n",
    "    \"jsyk\" : \"just so you know\",\n",
    "    \"l8r\" : \"later\",\n",
    "    \"lb\" : \"pound\",\n",
    "    \"lbs\" : \"pounds\",\n",
    "    \"ldr\" : \"long distance relationship\",\n",
    "    \"lmao\" : \"laugh my ass off\",\n",
    "    \"lmfao\" : \"laugh my fucking ass off\",\n",
    "    \"lol\" : \"laughing out loud\",\n",
    "    \"ltd\" : \"limited\",\n",
    "    \"ltns\" : \"long time no see\",\n",
    "    \"m8\" : \"mate\",\n",
    "    \"mf\" : \"motherfucker\",\n",
    "    \"mfs\" : \"motherfuckers\",\n",
    "    \"mfw\" : \"my face when\",\n",
    "    \"mofo\" : \"motherfucker\",\n",
    "    \"mph\" : \"miles per hour\",\n",
    "    \"mr\" : \"mister\",\n",
    "    \"mrw\" : \"my reaction when\",\n",
    "    \"ms\" : \"miss\",\n",
    "    \"mte\" : \"my thoughts exactly\",\n",
    "    \"nagi\" : \"not a good idea\",\n",
    "    \"nbc\" : \"national broadcasting company\",\n",
    "    \"nbd\" : \"not big deal\",\n",
    "    \"nfs\" : \"not for sale\",\n",
    "    \"n't\" : \"not\",\n",
    "    \"ngl\" : \"not going to lie\",\n",
    "    \"nhs\" : \"national health service\",\n",
    "    \"nrn\" : \"no reply necessary\",\n",
    "    \"nsfl\" : \"not safe for life\",\n",
    "    \"nsfw\" : \"not safe for work\",\n",
    "    \"nth\" : \"nice to have\",\n",
    "    \"nvr\" : \"never\",\n",
    "    \"nyc\" : \"new york city\",\n",
    "    \"oc\" : \"original content\",\n",
    "    \"og\" : \"original\",\n",
    "    \"ohp\" : \"overhead projector\",\n",
    "    \"oic\" : \"oh i see\",\n",
    "    \"omdb\" : \"over my dead body\",\n",
    "    \"omg\" : \"oh my god\",\n",
    "    \"omw\" : \"on my way\",\n",
    "    \"p.a\" : \"per annum\",\n",
    "    \"p.m\" : \"after midday\",\n",
    "    \"pm\" : \"prime minister\",\n",
    "    \"poc\" : \"people of color\",\n",
    "    \"pov\" : \"point of view\",\n",
    "    \"pp\" : \"pages\",\n",
    "    \"ppl\" : \"people\",\n",
    "    \"prw\" : \"parents are watching\",\n",
    "    \"ps\" : \"postscript\",\n",
    "    \"pt\" : \"point\",\n",
    "    \"ptb\" : \"please text back\",\n",
    "    \"pto\" : \"please turn over\",\n",
    "    \"qpsa\" : \"what happens\",\n",
    "    \"ratchet\" : \"rude\",\n",
    "    \"rbtl\" : \"read between the lines\",\n",
    "    \"rlrt\" : \"real life retweet\", \n",
    "    \"rofl\" : \"rolling on the floor laughing\",\n",
    "    \"roflol\" : \"rolling on the floor laughing out loud\",\n",
    "    \"rotflmao\" : \"rolling on the floor laughing my ass off\",\n",
    "    \"rt\" : \"retweet\",\n",
    "    \"'s\" : \"is\",\n",
    "    \"'m\" : \"am\",\n",
    "    \"ruok\" : \"are you ok\",\n",
    "    \"sfw\" : \"safe for work\",\n",
    "    \"sk8\" : \"skate\",\n",
    "    \"smh\" : \"shake my head\",\n",
    "    \"sq\" : \"square\",\n",
    "    \"srsly\" : \"seriously\", \n",
    "    \"ssdd\" : \"same stuff different day\",\n",
    "    \"tbh\" : \"to be honest\",\n",
    "    \"tbs\" : \"tablespooful\",\n",
    "    \"tbsp\" : \"tablespooful\",\n",
    "    \"tfw\" : \"that feeling when\",\n",
    "    \"thks\" : \"thank you\",\n",
    "    \"tho\" : \"though\",\n",
    "    \"thx\" : \"thank you\",\n",
    "    \"tia\" : \"thanks in advance\",\n",
    "    \"til\" : \"today i learned\",\n",
    "    \"tl;dr\" : \"too long i did not read\",\n",
    "    \"tldr\" : \"too long i did not read\",\n",
    "    \"tmb\" : \"tweet me back\",\n",
    "    \"tntl\" : \"trying not to laugh\",\n",
    "    \"ttyl\" : \"talk to you later\",\n",
    "    \"u\" : \"you\",\n",
    "    \"u2\" : \"you too\",\n",
    "    \"u4e\" : \"yours for ever\",\n",
    "    \"utc\" : \"coordinated universal time\",\n",
    "    \"w/\" : \"with\",\n",
    "    \"w/o\" : \"without\",\n",
    "    \"w8\" : \"wait\",\n",
    "    \"wassup\" : \"what is up\",\n",
    "    \"wb\" : \"welcome back\",\n",
    "    \"wtf\" : \"what the fuck\",\n",
    "    \"wtg\" : \"way to go\",\n",
    "    \"wtpa\" : \"where the party at\",\n",
    "    \"wuf\" : \"where are you from\",\n",
    "    \"wuzup\" : \"what is up\",\n",
    "    \"wywh\" : \"wish you were here\",\n",
    "    \"yd\" : \"yard\",\n",
    "    \"ygtr\" : \"you got that right\",\n",
    "    \"ynk\" : \"you never know\",\n",
    "    \"zzz\" : \"sleeping bored and tired\"\n",
    "}"
   ]
  },
  {
   "cell_type": "markdown",
   "metadata": {
    "id": "IBkh-Q1nQh3Y"
   },
   "source": [
    "### ***1.3.2 Preprocessing***"
   ]
  },
  {
   "cell_type": "code",
   "execution_count": 16,
   "metadata": {
    "id": "3KM6rnxAjBgJ"
   },
   "outputs": [],
   "source": [
    "def strip_non_ascii(string):\n",
    "    ''' Returns the string without non ASCII characters'''\n",
    "    stripped = (c for c in string if 0 < ord(c) < 127)\n",
    "    return ''.join(stripped)\n",
    "\n",
    "def remove_emoji(text):\n",
    "    emoji_pattern = re.compile(\"[\"\n",
    "    u\"\\U0001F600-\\U0001F64F\"  # emoticons\n",
    "    u\"\\U0001F300-\\U0001F5FF\"  # symbols & pictographs\n",
    "    u\"\\U0001F680-\\U0001F6FF\"  # transport & map symbols\n",
    "    u\"\\U0001F1E0-\\U0001F1FF\"  # flags (iOS)\n",
    "    u\"\\U00002702-\\U000027B0\"\n",
    "    u\"\\U000024C2-\\U0001F251\"\n",
    "    \"]+\", flags=re.UNICODE)\n",
    "    return emoji_pattern.sub(r'', text)\n",
    "\n",
    "stop_words=['in','of','at','a','the']\n",
    "\n",
    "def new_preprocess(text):\n",
    "    tweets_list = []\n",
    "    for tweet in text:\n",
    "        tweet = tweet.lower()\n",
    "        tweet = re.sub('@[^\\s]+','',tweet)\n",
    "        tweet = re.sub('http[^\\s]+','',tweet)   \n",
    "        tweet = tweet.replace(\"#\" ,'')\n",
    "        tweet = remove_emoji(tweet)\n",
    "        sentence = strip_non_ascii(tweet)\n",
    "        tokens = nltk.tokenize.word_tokenize(tweet)\n",
    "        \n",
    "        \n",
    "        sentence = ''\n",
    "        for token in tokens:\n",
    "            if token not in stop_words:\n",
    "                if token in abbreviations.keys():\n",
    "                    sentence += (abbreviations[token] + ' ')\n",
    "                else:\n",
    "                    sentence += (token + ' ')\n",
    "\n",
    "        tweets_list.append(sentence)\n",
    "\n",
    "    return tweets_list"
   ]
  },
  {
   "cell_type": "code",
   "execution_count": 17,
   "metadata": {
    "id": "B3CX2DT9BF6O"
   },
   "outputs": [],
   "source": [
    "df_dev['text'] = df_dev['text'].astype(str)\n",
    "df_eval['text'] = df_eval['text'].astype(str)"
   ]
  },
  {
   "cell_type": "code",
   "execution_count": 18,
   "metadata": {
    "id": "tfhls5V6AjjO"
   },
   "outputs": [],
   "source": [
    "df_dev['text'] = new_preprocess(df_dev['text'])\n",
    "\n",
    "X = df_dev.drop(['ids','sentiment','date','flag'],axis=1)\n",
    "y = df_dev['sentiment']\n",
    "\n",
    "X['text']= new_preprocess(X['text'])"
   ]
  },
  {
   "cell_type": "markdown",
   "metadata": {
    "id": "kXGjc-ea4ZrW"
   },
   "source": [
    "### ***1.3.3 Train and Validation Sets Creation***"
   ]
  },
  {
   "cell_type": "code",
   "execution_count": 19,
   "metadata": {
    "colab": {
     "base_uri": "https://localhost:8080/",
     "height": 419
    },
    "id": "WPuehOSwgQ-y",
    "outputId": "ac43d058-a9a1-41a1-ce70-2d1c8746a7ff"
   },
   "outputs": [
    {
     "data": {
      "text/html": [
       "<div>\n",
       "<style scoped>\n",
       "    .dataframe tbody tr th:only-of-type {\n",
       "        vertical-align: middle;\n",
       "    }\n",
       "\n",
       "    .dataframe tbody tr th {\n",
       "        vertical-align: top;\n",
       "    }\n",
       "\n",
       "    .dataframe thead th {\n",
       "        text-align: right;\n",
       "    }\n",
       "</style>\n",
       "<table border=\"1\" class=\"dataframe\">\n",
       "  <thead>\n",
       "    <tr style=\"text-align: right;\">\n",
       "      <th></th>\n",
       "      <th>user</th>\n",
       "      <th>text</th>\n",
       "      <th>day</th>\n",
       "      <th>month</th>\n",
       "      <th>year</th>\n",
       "      <th>hour</th>\n",
       "      <th>minute</th>\n",
       "      <th>second</th>\n",
       "    </tr>\n",
       "  </thead>\n",
       "  <tbody>\n",
       "    <tr>\n",
       "      <th>0</th>\n",
       "      <td>Killandra</td>\n",
       "      <td>yes , talking helps lot going through it , the...</td>\n",
       "      <td>18</td>\n",
       "      <td>5</td>\n",
       "      <td>2009</td>\n",
       "      <td>1</td>\n",
       "      <td>8</td>\n",
       "      <td>27</td>\n",
       "    </tr>\n",
       "    <tr>\n",
       "      <th>1</th>\n",
       "      <td>IMlisacowan</td>\n",
       "      <td>sunshine . livingg itttt . imma lie on grass l...</td>\n",
       "      <td>31</td>\n",
       "      <td>5</td>\n",
       "      <td>2009</td>\n",
       "      <td>6</td>\n",
       "      <td>23</td>\n",
       "      <td>17</td>\n",
       "    </tr>\n",
       "    <tr>\n",
       "      <th>2</th>\n",
       "      <td>yaseminx3</td>\n",
       "      <td>something for your iphone</td>\n",
       "      <td>1</td>\n",
       "      <td>6</td>\n",
       "      <td>2009</td>\n",
       "      <td>11</td>\n",
       "      <td>52</td>\n",
       "      <td>54</td>\n",
       "    </tr>\n",
       "    <tr>\n",
       "      <th>3</th>\n",
       "      <td>no_surprises</td>\n",
       "      <td>could not get to after party .</td>\n",
       "      <td>17</td>\n",
       "      <td>5</td>\n",
       "      <td>2009</td>\n",
       "      <td>2</td>\n",
       "      <td>45</td>\n",
       "      <td>34</td>\n",
       "    </tr>\n",
       "    <tr>\n",
       "      <th>4</th>\n",
       "      <td>Rhi_ShortStack</td>\n",
       "      <td>awww is andy being mean again ? now i want mac...</td>\n",
       "      <td>2</td>\n",
       "      <td>6</td>\n",
       "      <td>2009</td>\n",
       "      <td>0</td>\n",
       "      <td>8</td>\n",
       "      <td>7</td>\n",
       "    </tr>\n",
       "    <tr>\n",
       "      <th>...</th>\n",
       "      <td>...</td>\n",
       "      <td>...</td>\n",
       "      <td>...</td>\n",
       "      <td>...</td>\n",
       "      <td>...</td>\n",
       "      <td>...</td>\n",
       "      <td>...</td>\n",
       "      <td>...</td>\n",
       "    </tr>\n",
       "    <tr>\n",
       "      <th>224989</th>\n",
       "      <td>CynthiaBuroughs</td>\n",
       "      <td>yeah i hope iran people reach freedom they rea...</td>\n",
       "      <td>20</td>\n",
       "      <td>6</td>\n",
       "      <td>2009</td>\n",
       "      <td>20</td>\n",
       "      <td>36</td>\n",
       "      <td>48</td>\n",
       "    </tr>\n",
       "    <tr>\n",
       "      <th>224990</th>\n",
       "      <td>unitechy</td>\n",
       "      <td>trying qwerty keypad</td>\n",
       "      <td>1</td>\n",
       "      <td>6</td>\n",
       "      <td>2009</td>\n",
       "      <td>1</td>\n",
       "      <td>25</td>\n",
       "      <td>45</td>\n",
       "    </tr>\n",
       "    <tr>\n",
       "      <th>224991</th>\n",
       "      <td>Xaan</td>\n",
       "      <td>i love jasper &amp; ; jackson but that wig bday sc...</td>\n",
       "      <td>1</td>\n",
       "      <td>6</td>\n",
       "      <td>2009</td>\n",
       "      <td>6</td>\n",
       "      <td>38</td>\n",
       "      <td>10</td>\n",
       "    </tr>\n",
       "    <tr>\n",
       "      <th>224992</th>\n",
       "      <td>Ginger_Billie</td>\n",
       "      <td>i am really tired and bored and bleh ! i feel ...</td>\n",
       "      <td>19</td>\n",
       "      <td>6</td>\n",
       "      <td>2009</td>\n",
       "      <td>8</td>\n",
       "      <td>51</td>\n",
       "      <td>56</td>\n",
       "    </tr>\n",
       "    <tr>\n",
       "      <th>224993</th>\n",
       "      <td>kevin_choo</td>\n",
       "      <td>good luck ! ! it sounds interesting though</td>\n",
       "      <td>3</td>\n",
       "      <td>6</td>\n",
       "      <td>2009</td>\n",
       "      <td>6</td>\n",
       "      <td>0</td>\n",
       "      <td>29</td>\n",
       "    </tr>\n",
       "  </tbody>\n",
       "</table>\n",
       "<p>223106 rows × 8 columns</p>\n",
       "</div>"
      ],
      "text/plain": [
       "                   user                                               text  \\\n",
       "0             Killandra  yes , talking helps lot going through it , the...   \n",
       "1           IMlisacowan  sunshine . livingg itttt . imma lie on grass l...   \n",
       "2             yaseminx3                         something for your iphone    \n",
       "3          no_surprises                    could not get to after party .    \n",
       "4        Rhi_ShortStack  awww is andy being mean again ? now i want mac...   \n",
       "...                 ...                                                ...   \n",
       "224989  CynthiaBuroughs  yeah i hope iran people reach freedom they rea...   \n",
       "224990         unitechy                              trying qwerty keypad    \n",
       "224991             Xaan  i love jasper & ; jackson but that wig bday sc...   \n",
       "224992    Ginger_Billie  i am really tired and bored and bleh ! i feel ...   \n",
       "224993       kevin_choo        good luck ! ! it sounds interesting though    \n",
       "\n",
       "        day  month  year  hour  minute  second  \n",
       "0        18      5  2009     1       8      27  \n",
       "1        31      5  2009     6      23      17  \n",
       "2         1      6  2009    11      52      54  \n",
       "3        17      5  2009     2      45      34  \n",
       "4         2      6  2009     0       8       7  \n",
       "...     ...    ...   ...   ...     ...     ...  \n",
       "224989   20      6  2009    20      36      48  \n",
       "224990    1      6  2009     1      25      45  \n",
       "224991    1      6  2009     6      38      10  \n",
       "224992   19      6  2009     8      51      56  \n",
       "224993    3      6  2009     6       0      29  \n",
       "\n",
       "[223106 rows x 8 columns]"
      ]
     },
     "execution_count": 19,
     "metadata": {},
     "output_type": "execute_result"
    }
   ],
   "source": [
    "X_train, X_val, y_train, y_val = train_test_split(X, y, test_size=0.1, random_state=42)\n",
    "\n",
    "X"
   ]
  },
  {
   "cell_type": "markdown",
   "metadata": {
    "id": "azs4wemDw9CJ"
   },
   "source": [
    "### ***1.3.4 Top Words in Negative Tweets***"
   ]
  },
  {
   "cell_type": "code",
   "execution_count": 20,
   "metadata": {
    "id": "IVsV50QZw9CJ",
    "outputId": "77e10a28-4d40-4370-99ab-6b51815fdb5d"
   },
   "outputs": [
    {
     "data": {
      "text/plain": [
       "<BarContainer object of 10 artists>"
      ]
     },
     "execution_count": 20,
     "metadata": {},
     "output_type": "execute_result"
    },
    {
     "data": {
      "image/png": "[encoded data removed]",
      "text/plain": [
       "<Figure size 432x288 with 1 Axes>"
      ]
     },
     "metadata": {
      "needs_background": "light"
     },
     "output_type": "display_data"
    }
   ],
   "source": [
    "def create_corpus(target):\n",
    "    corpus=[]\n",
    "    \n",
    "    for x in df_dev[df_dev['sentiment']==target]['text'].str.split():\n",
    "        for i in x:\n",
    "            corpus.append(i)\n",
    "    return corpus\n",
    "\n",
    "corpus=create_corpus(0)\n",
    "\n",
    "dic=collections.defaultdict(int)\n",
    "for word in corpus:\n",
    "    if word not in string.punctuation and word not in STOPWORDS:\n",
    "        dic[word]+=1\n",
    "        \n",
    "top=sorted(dic.items(), key=lambda x:x[1],reverse=True)[:50] \n",
    "top_10 = top[:10]\n",
    "x,y=zip(*top_10)\n",
    "plt.bar(x,y,color='#FF6962')"
   ]
  },
  {
   "cell_type": "code",
   "execution_count": 21,
   "metadata": {
    "id": "KAmR52Tbw9CJ",
    "outputId": "59b9370e-8451-437b-c714-c43bb341e01a"
   },
   "outputs": [
    {
     "data": {
      "text/plain": [
       "<matplotlib.image.AxesImage at 0x7f941e223700>"
      ]
     },
     "execution_count": 21,
     "metadata": {},
     "output_type": "execute_result"
    },
    {
     "data": {
      "image/png": "[encoded data removed]",
      "text/plain": [
       "<Figure size 432x288 with 1 Axes>"
      ]
     },
     "metadata": {
      "needs_background": "light"
     },
     "output_type": "display_data"
    }
   ],
   "source": [
    "d_neg = {}\n",
    "for i in range(len(top)):\n",
    "    d_neg[top[i][0]] = top[i][1]\n",
    "\n",
    "wc = WordCloud(background_color=\"black\",width=3000,height=1000, \\\n",
    "               max_words=20).generate_from_frequencies(d_neg)\n",
    "\n",
    "wc.to_file('N.png') \n",
    "plt.imshow(wc)"
   ]
  },
  {
   "cell_type": "markdown",
   "metadata": {
    "id": "RhEYEz1Yw9CL"
   },
   "source": [
    "### ***1.3.5 Top Words in Positive Tweets***"
   ]
  },
  {
   "cell_type": "code",
   "execution_count": 23,
   "metadata": {
    "id": "OMfxpq7Gw9CL",
    "outputId": "6aa19720-b2ff-41af-990a-89df1f4bf106"
   },
   "outputs": [
    {
     "data": {
      "text/plain": [
       "<BarContainer object of 10 artists>"
      ]
     },
     "execution_count": 23,
     "metadata": {},
     "output_type": "execute_result"
    },
    {
     "data": {
      "image/png": "[encoded data removed]",
      "text/plain": [
       "<Figure size 432x288 with 1 Axes>"
      ]
     },
     "metadata": {
      "needs_background": "light"
     },
     "output_type": "display_data"
    }
   ],
   "source": [
    "corpus=create_corpus(1)\n",
    "\n",
    "dic=collections.defaultdict(int)\n",
    "for word in corpus:\n",
    "    if word not in string.punctuation and word not in STOPWORDS:\n",
    "        dic[word]+=1\n",
    "        \n",
    "top=sorted(dic.items(), key=lambda x:x[1],reverse=True)[:50] \n",
    "top_10_p = top[:10]\n",
    "x,y=zip(*top_10_p)\n",
    "plt.bar(x,y,color='#77DD76')"
   ]
  },
  {
   "cell_type": "code",
   "execution_count": 24,
   "metadata": {
    "id": "DfYUiUcCw9CL",
    "outputId": "277fed39-2d6f-4a79-9dd6-c7787e4a0fda"
   },
   "outputs": [
    {
     "data": {
      "text/plain": [
       "<matplotlib.image.AxesImage at 0x7f941ec76a30>"
      ]
     },
     "execution_count": 24,
     "metadata": {},
     "output_type": "execute_result"
    },
    {
     "data": {
      "image/png": "[encoded data removed]",
      "text/plain": [
       "<Figure size 432x288 with 1 Axes>"
      ]
     },
     "metadata": {
      "needs_background": "light"
     },
     "output_type": "display_data"
    }
   ],
   "source": [
    "d_pos = {}\n",
    "for i in range(len(top)):\n",
    "    d_pos[top[i][0]] = top[i][1]\n",
    "    \n",
    "wc = WordCloud(background_color=\"white\",width=3000,height=1000, \\\n",
    "               max_words=20).generate_from_frequencies(d_pos)\n",
    "\n",
    "wc.to_file('P.png') \n",
    "plt.imshow(wc)"
   ]
  },
  {
   "cell_type": "markdown",
   "metadata": {
    "id": "ElX3wDspmpOg"
   },
   "source": [
    "## ***1.4 Feature encoding with TF-IDF***"
   ]
  },
  {
   "cell_type": "code",
   "execution_count": 26,
   "metadata": {
    "colab": {
     "base_uri": "https://localhost:8080/"
    },
    "id": "UJfQagwq8-3r",
    "outputId": "b6fafd67-fc4c-4c17-84a8-883cee65fdfa"
   },
   "outputs": [
    {
     "name": "stdout",
     "output_type": "stream",
     "text": [
      "CPU times: user 10.5 s, sys: 268 ms, total: 10.8 s\n",
      "Wall time: 10.8 s\n"
     ]
    }
   ],
   "source": [
    "%%time \n",
    "\n",
    "# Calculate TF-IDF\n",
    "tv = TfidfVectorizer(min_df=0.0, max_df=1.0, ngram_range=(1,3),sublinear_tf=True)\n",
    "\n",
    "X_train_tfidf = tv.fit_transform(X_train['text'])\n",
    "X_val_tfidf = tv.transform(X_val['text'])"
   ]
  },
  {
   "cell_type": "code",
   "execution_count": 27,
   "metadata": {
    "colab": {
     "base_uri": "https://localhost:8080/"
    },
    "id": "Gei6EWzb8-6U",
    "outputId": "3e11c65b-0964-45cd-ef0a-7a51ec14019e"
   },
   "outputs": [
    {
     "name": "stdout",
     "output_type": "stream",
     "text": [
      "CPU times: user 15 s, sys: 1.65 s, total: 16.6 s\n",
      "Wall time: 18 s\n"
     ]
    }
   ],
   "source": [
    "%%time\n",
    "\n",
    "cols = ['user','month','day','hour']\n",
    "x_dev_arr = []\n",
    "x_eval_arr = []\n",
    "\n",
    "\n",
    "for col in cols:\n",
    "    df = pd.concat([X_train[col],X_val[col]],ignore_index=True)\n",
    "    y = pd.get_dummies(df).values\n",
    "    y = scipy.sparse.csr_matrix(y) \n",
    "    x_dev_arr.append(y[:X_train.shape[0],:])\n",
    "    x_eval_arr.append(y[X_train.shape[0]:,:])\n",
    "    \n",
    "\n",
    "\n"
   ]
  },
  {
   "cell_type": "code",
   "execution_count": 28,
   "metadata": {
    "id": "WDVnhRjZw9CM"
   },
   "outputs": [],
   "source": [
    "x_dev = hstack([x_dev_arr[0],x_dev_arr[1],x_dev_arr[2],\\\n",
    "              x_dev_arr[3]])\n",
    "\n",
    "x_eval = hstack([x_eval_arr[0],x_eval_arr[1],x_eval_arr[2],\\\n",
    "              x_eval_arr[3]])"
   ]
  },
  {
   "cell_type": "code",
   "execution_count": 29,
   "metadata": {
    "id": "at_X56F6w9CM"
   },
   "outputs": [],
   "source": [
    "x_dev = hstack([x_dev,X_train_tfidf])\n",
    "x_eval = hstack([x_eval,X_val_tfidf])"
   ]
  },
  {
   "cell_type": "markdown",
   "metadata": {
    "id": "g8dpSwtk9yNX"
   },
   "source": [
    "# ***2. Model Selection***"
   ]
  },
  {
   "cell_type": "markdown",
   "metadata": {
    "id": "5QAFgwNP57d5"
   },
   "source": [
    "## ***2.1 Evaluation Method with F1-score***"
   ]
  },
  {
   "cell_type": "code",
   "execution_count": 30,
   "metadata": {
    "id": "qVk4Kq6K9_FW"
   },
   "outputs": [],
   "source": [
    "def evaluate(y_true, y_pred):\n",
    "    return f1_score(y_true, y_pred, average=\"macro\")"
   ]
  },
  {
   "cell_type": "markdown",
   "metadata": {
    "id": "W2_-AgcpTJjy"
   },
   "source": [
    "## ***2.2 LinearSVC***"
   ]
  },
  {
   "cell_type": "code",
   "execution_count": 31,
   "metadata": {
    "colab": {
     "base_uri": "https://localhost:8080/"
    },
    "id": "sN2i7F8e8-83",
    "outputId": "769bd1f5-e980-406f-b08d-d6bd84f09889"
   },
   "outputs": [
    {
     "name": "stdout",
     "output_type": "stream",
     "text": [
      "0.8555450312253413\n"
     ]
    }
   ],
   "source": [
    "clf = LinearSVC()\n",
    "clf.fit(x_dev, y_train)\n",
    "\n",
    "y_pred = clf.predict(x_eval)\n",
    "print(evaluate(y_val,y_pred))"
   ]
  },
  {
   "cell_type": "markdown",
   "metadata": {
    "id": "qXDFL-26TLjb"
   },
   "source": [
    "## ***2.3 Logistic Regression***"
   ]
  },
  {
   "cell_type": "code",
   "execution_count": 32,
   "metadata": {
    "colab": {
     "base_uri": "https://localhost:8080/"
    },
    "id": "7y6i2rdV8-_N",
    "outputId": "27d8da39-d58f-49b4-ffe9-88bbb28e05c0"
   },
   "outputs": [
    {
     "name": "stdout",
     "output_type": "stream",
     "text": [
      "0.8508851829158927\n"
     ]
    }
   ],
   "source": [
    "clf = LogisticRegression(max_iter=500)\n",
    "clf.fit(x_dev, y_train)\n",
    "\n",
    "y_pred = clf.predict(x_eval)\n",
    "print(evaluate(y_val,y_pred))"
   ]
  },
  {
   "cell_type": "markdown",
   "metadata": {},
   "source": [
    "## ***2.4 Naive Bayes***"
   ]
  },
  {
   "cell_type": "code",
   "execution_count": 33,
   "metadata": {},
   "outputs": [
    {
     "name": "stdout",
     "output_type": "stream",
     "text": [
      "0.7666075071041939\n"
     ]
    }
   ],
   "source": [
    "clf = MultinomialNB()\n",
    "clf.fit(x_dev, y_train)\n",
    "\n",
    "y_pred = clf.predict(x_eval)\n",
    "print(evaluate(y_val,y_pred))"
   ]
  },
  {
   "cell_type": "markdown",
   "metadata": {
    "id": "3QFVECSQQcfR"
   },
   "source": [
    "# ***3. Hyperparameters Tuning***"
   ]
  },
  {
   "cell_type": "markdown",
   "metadata": {
    "id": "JHZz4SrZTxjl"
   },
   "source": [
    "## ***3.1 General Grid Search Construction***"
   ]
  },
  {
   "cell_type": "code",
   "execution_count": 34,
   "metadata": {
    "id": "yFA-EhqLTNxs"
   },
   "outputs": [],
   "source": [
    "param_grids = {\n",
    "\n",
    "\"lr\" : {\n",
    "        \"penalty\": ['l2','none'],\n",
    "        \"tol\": [1e-1, 1e-2, 1e-3, 1e-4],\n",
    "        \"C\": [0.6,0.8, 1.0,1.2, 1.4],\n",
    "        \"solver\" : ['saga'],\n",
    "        \"max_iter\" : [500]\n",
    "        },\n",
    "    \n",
    "\"lsvc\" : {\n",
    "        \"penalty\": ['l1','l2','none'],\n",
    "        \"loss\" : [\"hinge\",\"squared_hinge\"],\n",
    "        \"tol\": [1e-1, 1e-2, 1e-3, 1e-4],\n",
    "        \"C\": [0.1,0.6,0.8, 1.0,1.2, 1.4]\n",
    "        \n",
    "        \n",
    "    } ,\n",
    "    \n",
    "\"nb\" :{\n",
    "    \n",
    "    \"alpha\" : [0.2,0.4,0.6,0.8,1]\n",
    "    \n",
    "    }\n",
    "}"
   ]
  },
  {
   "cell_type": "markdown",
   "metadata": {
    "id": "vbCvyiqiIFLp"
   },
   "source": [
    "## ***3.2 Logistic Regression Grid Search***"
   ]
  },
  {
   "cell_type": "code",
   "execution_count": 35,
   "metadata": {
    "id": "YFQKaHcRID6c",
    "outputId": "d21c0747-4828-42a0-f68a-79efb35a1027"
   },
   "outputs": [
    {
     "name": "stdout",
     "output_type": "stream",
     "text": [
      "Fitting 5 folds for each of 40 candidates, totalling 200 fits\n"
     ]
    },
    {
     "name": "stderr",
     "output_type": "stream",
     "text": [
      "/Users/gianlucalm/opt/anaconda3/lib/python3.8/site-packages/sklearn/linear_model/_logistic.py:1483: UserWarning: Setting penalty='none' will ignore the C and l1_ratio parameters\n",
      "  warnings.warn(\n"
     ]
    }
   ],
   "source": [
    "clf_lr = LogisticRegression(random_state=42)\n",
    "        \n",
    "gridsearch = GridSearchCV(clf_lr, param_grids['lr'], scoring='f1', n_jobs=4,verbose= True)\n",
    "gridsearch.fit(x_dev, y_train)\n",
    "\n",
    "best_estimator = gridsearch.best_estimator_\n",
    "best_params = gridsearch.best_params_\n",
    "\n",
    "y_pred = best_estimator.predict(x_eval)"
   ]
  },
  {
   "cell_type": "code",
   "execution_count": 36,
   "metadata": {
    "colab": {
     "base_uri": "https://localhost:8080/"
    },
    "id": "nFYKaNhKTmpo",
    "outputId": "0017f42c-b7af-4013-c1c1-e503851706c8"
   },
   "outputs": [
    {
     "name": "stdout",
     "output_type": "stream",
     "text": [
      "LogisticRegression(C=0.6, max_iter=500, penalty='none', random_state=42,\n",
      "                   solver='saga', tol=0.01)\n",
      "{'C': 0.6, 'max_iter': 500, 'penalty': 'none', 'solver': 'saga', 'tol': 0.01}\n",
      "0.8564771283678174\n"
     ]
    }
   ],
   "source": [
    "print(best_estimator)\n",
    "print(best_params)\n",
    "print(evaluate(y_val,y_pred))\n"
   ]
  },
  {
   "cell_type": "markdown",
   "metadata": {
    "id": "f1_hWHFPIIQT"
   },
   "source": [
    "## ***3.3 Linear SVC Grid Search***"
   ]
  },
  {
   "cell_type": "code",
   "execution_count": 37,
   "metadata": {
    "id": "DOpoVRKzINlI",
    "outputId": "24c3ce6a-611b-41ee-a0e1-2257fb5d1561"
   },
   "outputs": [
    {
     "name": "stdout",
     "output_type": "stream",
     "text": [
      "Fitting 5 folds for each of 144 candidates, totalling 720 fits\n"
     ]
    },
    {
     "name": "stderr",
     "output_type": "stream",
     "text": [
      "/Users/gianlucalm/opt/anaconda3/lib/python3.8/site-packages/joblib/externals/loky/process_executor.py:688: UserWarning: A worker stopped while some jobs were given to the executor. This can be caused by a too short worker timeout or by a memory leak.\n",
      "  warnings.warn(\n",
      "/Users/gianlucalm/opt/anaconda3/lib/python3.8/site-packages/sklearn/model_selection/_validation.py:372: FitFailedWarning: \n",
      "480 fits failed out of a total of 720.\n",
      "The score on these train-test partitions for these parameters will be set to nan.\n",
      "If these failures are not expected, you can try to debug them by setting error_score='raise'.\n",
      "\n",
      "Below are more details about the failures:\n",
      "--------------------------------------------------------------------------------\n",
      "120 fits failed with the following error:\n",
      "Traceback (most recent call last):\n",
      "  File \"/Users/gianlucalm/opt/anaconda3/lib/python3.8/site-packages/sklearn/model_selection/_validation.py\", line 681, in _fit_and_score\n",
      "    estimator.fit(X_train, y_train, **fit_params)\n",
      "  File \"/Users/gianlucalm/opt/anaconda3/lib/python3.8/site-packages/sklearn/svm/_classes.py\", line 257, in fit\n",
      "    self.coef_, self.intercept_, self.n_iter_ = _fit_liblinear(\n",
      "  File \"/Users/gianlucalm/opt/anaconda3/lib/python3.8/site-packages/sklearn/svm/_base.py\", line 1185, in _fit_liblinear\n",
      "    solver_type = _get_liblinear_solver_type(multi_class, penalty, loss, dual)\n",
      "  File \"/Users/gianlucalm/opt/anaconda3/lib/python3.8/site-packages/sklearn/svm/_base.py\", line 1024, in _get_liblinear_solver_type\n",
      "    raise ValueError(\n",
      "ValueError: Unsupported set of arguments: The combination of penalty='l1' and loss='hinge' is not supported, Parameters: penalty='l1', loss='hinge', dual=True\n",
      "\n",
      "--------------------------------------------------------------------------------\n",
      "120 fits failed with the following error:\n",
      "Traceback (most recent call last):\n",
      "  File \"/Users/gianlucalm/opt/anaconda3/lib/python3.8/site-packages/sklearn/model_selection/_validation.py\", line 681, in _fit_and_score\n",
      "    estimator.fit(X_train, y_train, **fit_params)\n",
      "  File \"/Users/gianlucalm/opt/anaconda3/lib/python3.8/site-packages/sklearn/svm/_classes.py\", line 257, in fit\n",
      "    self.coef_, self.intercept_, self.n_iter_ = _fit_liblinear(\n",
      "  File \"/Users/gianlucalm/opt/anaconda3/lib/python3.8/site-packages/sklearn/svm/_base.py\", line 1185, in _fit_liblinear\n",
      "    solver_type = _get_liblinear_solver_type(multi_class, penalty, loss, dual)\n",
      "  File \"/Users/gianlucalm/opt/anaconda3/lib/python3.8/site-packages/sklearn/svm/_base.py\", line 1024, in _get_liblinear_solver_type\n",
      "    raise ValueError(\n",
      "ValueError: Unsupported set of arguments: The combination of penalty='none' and loss='hinge' is not supported, Parameters: penalty='none', loss='hinge', dual=True\n",
      "\n",
      "--------------------------------------------------------------------------------\n",
      "120 fits failed with the following error:\n",
      "Traceback (most recent call last):\n",
      "  File \"/Users/gianlucalm/opt/anaconda3/lib/python3.8/site-packages/sklearn/model_selection/_validation.py\", line 681, in _fit_and_score\n",
      "    estimator.fit(X_train, y_train, **fit_params)\n",
      "  File \"/Users/gianlucalm/opt/anaconda3/lib/python3.8/site-packages/sklearn/svm/_classes.py\", line 257, in fit\n",
      "    self.coef_, self.intercept_, self.n_iter_ = _fit_liblinear(\n",
      "  File \"/Users/gianlucalm/opt/anaconda3/lib/python3.8/site-packages/sklearn/svm/_base.py\", line 1185, in _fit_liblinear\n",
      "    solver_type = _get_liblinear_solver_type(multi_class, penalty, loss, dual)\n",
      "  File \"/Users/gianlucalm/opt/anaconda3/lib/python3.8/site-packages/sklearn/svm/_base.py\", line 1024, in _get_liblinear_solver_type\n",
      "    raise ValueError(\n",
      "ValueError: Unsupported set of arguments: The combination of penalty='l1' and loss='squared_hinge' are not supported when dual=True, Parameters: penalty='l1', loss='squared_hinge', dual=True\n",
      "\n",
      "--------------------------------------------------------------------------------\n",
      "120 fits failed with the following error:\n",
      "Traceback (most recent call last):\n",
      "  File \"/Users/gianlucalm/opt/anaconda3/lib/python3.8/site-packages/sklearn/model_selection/_validation.py\", line 681, in _fit_and_score\n",
      "    estimator.fit(X_train, y_train, **fit_params)\n",
      "  File \"/Users/gianlucalm/opt/anaconda3/lib/python3.8/site-packages/sklearn/svm/_classes.py\", line 257, in fit\n",
      "    self.coef_, self.intercept_, self.n_iter_ = _fit_liblinear(\n",
      "  File \"/Users/gianlucalm/opt/anaconda3/lib/python3.8/site-packages/sklearn/svm/_base.py\", line 1185, in _fit_liblinear\n",
      "    solver_type = _get_liblinear_solver_type(multi_class, penalty, loss, dual)\n",
      "  File \"/Users/gianlucalm/opt/anaconda3/lib/python3.8/site-packages/sklearn/svm/_base.py\", line 1024, in _get_liblinear_solver_type\n",
      "    raise ValueError(\n",
      "ValueError: Unsupported set of arguments: The combination of penalty='none' and loss='squared_hinge' is not supported, Parameters: penalty='none', loss='squared_hinge', dual=True\n",
      "\n",
      "  warnings.warn(some_fits_failed_message, FitFailedWarning)\n",
      "/Users/gianlucalm/opt/anaconda3/lib/python3.8/site-packages/sklearn/model_selection/_search.py:969: UserWarning: One or more of the test scores are non-finite: [       nan        nan        nan        nan 0.8613711  0.86137838\n",
      " 0.86136475 0.86136475        nan        nan        nan        nan\n",
      "        nan        nan        nan        nan 0.87182238 0.87183527\n",
      " 0.87183801 0.87183801        nan        nan        nan        nan\n",
      "        nan        nan        nan        nan 0.87282872 0.87277511\n",
      " 0.87277037 0.87277037        nan        nan        nan        nan\n",
      "        nan        nan        nan        nan 0.87335831 0.87333561\n",
      " 0.87334514 0.87333667        nan        nan        nan        nan\n",
      "        nan        nan        nan        nan 0.87330698 0.8732912\n",
      " 0.8732912  0.8732912         nan        nan        nan        nan\n",
      "        nan        nan        nan        nan 0.87300688 0.87297732\n",
      " 0.87298578 0.87298209        nan        nan        nan        nan\n",
      "        nan        nan        nan        nan 0.87318143 0.87318994\n",
      " 0.87318519 0.87318519        nan        nan        nan        nan\n",
      "        nan        nan        nan        nan 0.87253162 0.8725796\n",
      " 0.87259281 0.8725965         nan        nan        nan        nan\n",
      "        nan        nan        nan        nan 0.872827   0.87280757\n",
      " 0.87281496 0.87281496        nan        nan        nan        nan\n",
      "        nan        nan        nan        nan 0.87237257 0.87233545\n",
      " 0.87233913 0.8723439         nan        nan        nan        nan\n",
      "        nan        nan        nan        nan 0.87230572 0.87231637\n",
      " 0.87231161 0.87231161        nan        nan        nan        nan\n",
      "        nan        nan        nan        nan 0.87211403 0.87212644\n",
      " 0.87211427 0.87210581        nan        nan        nan        nan]\n",
      "  warnings.warn(\n"
     ]
    }
   ],
   "source": [
    "clf_lr = LinearSVC(random_state=42)\n",
    "        \n",
    "gridsearch = GridSearchCV(clf_lr, param_grids['lsvc'], scoring='f1', n_jobs=4,verbose= True)\n",
    "gridsearch.fit(x_dev, y_train)\n",
    "\n",
    "best_estimator = gridsearch.best_estimator_\n",
    "best_params = gridsearch.best_params_\n",
    "\n",
    "y_pred = best_estimator.predict(x_eval)"
   ]
  },
  {
   "cell_type": "code",
   "execution_count": 38,
   "metadata": {
    "colab": {
     "base_uri": "https://localhost:8080/"
    },
    "id": "m_z5Cyz9IcGq",
    "outputId": "b9355403-f7d7-4ae2-b012-b9b0dc877c62"
   },
   "outputs": [
    {
     "name": "stdout",
     "output_type": "stream",
     "text": [
      "LinearSVC(C=0.6, random_state=42, tol=0.1)\n",
      "{'C': 0.6, 'loss': 'squared_hinge', 'penalty': 'l2', 'tol': 0.1}\n",
      "0.8561239571523014\n"
     ]
    }
   ],
   "source": [
    "print(best_estimator)\n",
    "print(best_params)\n",
    "print(evaluate(y_val,y_pred))"
   ]
  },
  {
   "cell_type": "markdown",
   "metadata": {
    "id": "6TzSHEzZw9CM"
   },
   "source": [
    "### ***3.3.1 LinearSVC C-param Tuning***"
   ]
  },
  {
   "cell_type": "code",
   "execution_count": 39,
   "metadata": {
    "id": "imxnIR6kw9CM",
    "outputId": "dcf2f5ce-655c-44fd-a775-17ff318ad960"
   },
   "outputs": [
    {
     "data": {
      "image/png": "[encoded data removed]",
      "text/plain": [
       "<Figure size 864x432 with 1 Axes>"
      ]
     },
     "metadata": {
      "needs_background": "light"
     },
     "output_type": "display_data"
    }
   ],
   "source": [
    "c = [0.1,0.2,0.3,0.4,0.5,0.6,0.7,0.8,0.9,1.0,1.1,1.2,1.3,1.4,1.5]\n",
    "f1 = []\n",
    "\n",
    "for elem in c :\n",
    "    clf = LinearSVC(C = elem, loss = 'squared_hinge', penalty = 'l2', tol = 0.1)\n",
    "    clf.fit(x_dev, y_train)\n",
    "    y_pred = clf.predict(x_eval)\n",
    "\n",
    "    f1.append(evaluate(y_val,y_pred))\n",
    "\n",
    "plt.figure(figsize=(12,6))\n",
    "\n",
    "\n",
    "pl = plt.plot( c, f1, color='orange')\n",
    "plt.title('Model performances')\n",
    "plt.ylabel('F1 Score')\n",
    "plt.xlabel('C')\n",
    "\n",
    "\n",
    "\n",
    "plt.savefig(\"score_c.png\")"
   ]
  },
  {
   "cell_type": "markdown",
   "metadata": {
    "id": "SE_NUmfGw9CO"
   },
   "source": [
    "## ***3.4 Naive Bayes Grid Search***"
   ]
  },
  {
   "cell_type": "code",
   "execution_count": 40,
   "metadata": {
    "id": "xGlgOGqUw9CO",
    "outputId": "b011cf83-a25d-4d57-92d2-d3d4b51c7d0e"
   },
   "outputs": [
    {
     "name": "stdout",
     "output_type": "stream",
     "text": [
      "Fitting 5 folds for each of 5 candidates, totalling 25 fits\n"
     ]
    }
   ],
   "source": [
    "clf_lr = MultinomialNB()\n",
    "        \n",
    "gridsearch = GridSearchCV(clf_lr, param_grids['nb'], scoring='f1', n_jobs=4,verbose= True)\n",
    "gridsearch.fit(x_dev, y_train)\n",
    "\n",
    "best_estimator = gridsearch.best_estimator_\n",
    "best_params = gridsearch.best_params_\n",
    "\n",
    "y_pred = best_estimator.predict(x_eval)"
   ]
  },
  {
   "cell_type": "code",
   "execution_count": 41,
   "metadata": {
    "id": "vp1XudpSw9CO",
    "outputId": "b216a3a0-d243-46ab-d6ff-196c437eef4b"
   },
   "outputs": [
    {
     "name": "stdout",
     "output_type": "stream",
     "text": [
      "MultinomialNB(alpha=0.2)\n",
      "{'alpha': 0.2}\n",
      "0.8274176641997226\n"
     ]
    }
   ],
   "source": [
    "print(best_estimator)\n",
    "print(best_params)\n",
    "print(evaluate(y_val,y_pred))"
   ]
  },
  {
   "cell_type": "markdown",
   "metadata": {
    "id": "Xg3rD_8ZI1s_"
   },
   "source": [
    "# ***4. Final Evaluation***"
   ]
  },
  {
   "cell_type": "markdown",
   "metadata": {
    "id": "tsSvQAzmUmRo"
   },
   "source": [
    "## ***4.1 Evaluation Set Preprocessing***"
   ]
  },
  {
   "cell_type": "code",
   "execution_count": 42,
   "metadata": {
    "colab": {
     "base_uri": "https://localhost:8080/"
    },
    "id": "qYcXwlLbI3Yf",
    "outputId": "d34919b3-c021-4b7b-fcf1-b20dffe40408"
   },
   "outputs": [
    {
     "name": "stdout",
     "output_type": "stream",
     "text": [
      "CPU times: user 38.2 s, sys: 125 ms, total: 38.3 s\n",
      "Wall time: 38.3 s\n"
     ]
    }
   ],
   "source": [
    "%%time\n",
    "\n",
    "X_dev = df_dev.drop(['sentiment','ids','date','flag'],axis=1)\n",
    "y_dev = df_dev['sentiment']\n",
    "\n",
    "X_eval = df_eval.drop(['ids','date','flag'],axis=1)\n",
    "\n",
    "X_dev['text']= new_preprocess(X_dev['text'])\n",
    "X_eval['text']= new_preprocess(X_eval['text'])\n"
   ]
  },
  {
   "cell_type": "code",
   "execution_count": 43,
   "metadata": {
    "colab": {
     "base_uri": "https://localhost:8080/"
    },
    "id": "zdnqzex2I-Ft",
    "outputId": "9f03c216-8f66-483f-d8d3-fdf4d73c00ff"
   },
   "outputs": [
    {
     "name": "stdout",
     "output_type": "stream",
     "text": [
      "CPU times: user 13 s, sys: 462 ms, total: 13.4 s\n",
      "Wall time: 13.6 s\n"
     ]
    }
   ],
   "source": [
    "%%time \n",
    "\n",
    "# Calculate TF-IDF\n",
    "tv = TfidfVectorizer(min_df=0.0, max_df=1.0, ngram_range=(1,3),sublinear_tf=True)\n",
    "\n",
    "X_dev_tfidf = tv.fit_transform(X_dev['text'])\n",
    "X_eval_tfidf = tv.transform(X_eval['text'])"
   ]
  },
  {
   "cell_type": "code",
   "execution_count": 44,
   "metadata": {
    "colab": {
     "base_uri": "https://localhost:8080/"
    },
    "id": "JKaTK6UjJDGB",
    "outputId": "ea7ad255-ca2b-4e61-f554-481974cf792d"
   },
   "outputs": [
    {
     "name": "stdout",
     "output_type": "stream",
     "text": [
      "CPU times: user 19.9 s, sys: 2.63 s, total: 22.5 s\n",
      "Wall time: 24.7 s\n"
     ]
    }
   ],
   "source": [
    "%%time\n",
    "\n",
    "\n",
    "cols = ['user','month','day','hour']\n",
    "x_dev_arr = []\n",
    "x_eval_arr = []\n",
    "\n",
    "\n",
    "for col in cols:\n",
    "    df = pd.concat([X_dev[col],X_eval[col]],ignore_index=True)\n",
    "    y = pd.get_dummies(df).values\n",
    "    y = scipy.sparse.csr_matrix(y) \n",
    "    x_dev_arr.append(y[:X_dev.shape[0],:])\n",
    "    x_eval_arr.append(y[X_dev.shape[0]:,:])\n",
    "\n",
    "x_dev = hstack([x_dev_arr[0],x_dev_arr[1],x_dev_arr[2],\\\n",
    "              x_dev_arr[3]])\n",
    "\n",
    "x_eval = hstack([x_eval_arr[0],x_eval_arr[1],x_eval_arr[2],\\\n",
    "              x_eval_arr[3]])"
   ]
  },
  {
   "cell_type": "code",
   "execution_count": 45,
   "metadata": {
    "id": "1S7QAxSLw9CP"
   },
   "outputs": [],
   "source": [
    "x_dev = hstack([x_dev,X_dev_tfidf])\n",
    "x_eval = hstack([x_eval,X_eval_tfidf])"
   ]
  },
  {
   "cell_type": "markdown",
   "metadata": {
    "id": "OsbEiOkiUxaa"
   },
   "source": [
    "## ***4.2 Final Train***"
   ]
  },
  {
   "cell_type": "code",
   "execution_count": 46,
   "metadata": {
    "id": "r3o5bD7GcCLz"
   },
   "outputs": [],
   "source": [
    "clf = LinearSVC(C = 0.3, loss = 'squared_hinge', penalty = 'l2', tol = 0.1)\n",
    "clf.fit(x_dev, y_dev)\n",
    "\n",
    "y_pred_final = clf.predict(x_eval)"
   ]
  },
  {
   "cell_type": "markdown",
   "metadata": {
    "id": "eIiH3iUiJyLz"
   },
   "source": [
    "## ***4.3 Best Results Storing***"
   ]
  },
  {
   "cell_type": "code",
   "execution_count": 47,
   "metadata": {
    "id": "bxiIPh3wJtgH"
   },
   "outputs": [],
   "source": [
    "def get_csv(ids, y):\n",
    "    pd.DataFrame(dict( \n",
    "                   Id = ids,\n",
    "                   Predicted = y\n",
    "           )).to_csv(\"final_version.csv\",sep=\",\",index=False)"
   ]
  },
  {
   "cell_type": "code",
   "execution_count": 48,
   "metadata": {
    "id": "mocQB9eDJtpY"
   },
   "outputs": [],
   "source": [
    "ids = np.arange(len(df_eval))\n",
    "get_csv(ids,y_pred_final)"
   ]
  }
 ],
 "metadata": {
  "colab": {
   "collapsed_sections": [],
   "name": "DSL.ipynb",
   "provenance": []
  },
  "kernelspec": {
   "display_name": "Python 3",
   "language": "python",
   "name": "python3"
  },
  "language_info": {
   "codemirror_mode": {
    "name": "ipython",
    "version": 3
   },
   "file_extension": ".py",
   "mimetype": "text/x-python",
   "name": "python",
   "nbconvert_exporter": "python",
   "pygments_lexer": "ipython3",
   "version": "3.8.5"
  }
 },
 "nbformat": 4,
 "nbformat_minor": 1
}
